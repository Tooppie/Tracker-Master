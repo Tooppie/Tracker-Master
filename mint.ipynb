{
 "cells": [
  {
   "cell_type": "code",
   "execution_count": null,
   "metadata": {},
   "outputs": [],
   "source": [
    "from __future__ import annotations\n",
    "import plotly.express as px\n",
    "from datetime import datetime, timedelta, timezone\n",
    "import mintapi\n",
    "import pandas as pd\n",
    "import net_worth_tracker as nwt"
   ]
  },
  {
   "cell_type": "code",
   "execution_count": null,
   "metadata": {},
   "outputs": [],
   "source": [
    "# nwt.mint.update()"
   ]
  },
  {
   "cell_type": "code",
   "execution_count": null,
   "metadata": {},
   "outputs": [],
   "source": [
    "data = nwt.mint.load_latest_data()\n",
    "account_data = data[\"account_data\"]\n",
    "transaction_data = data[\"transaction_data\"]\n",
    "budget_data = data[\"budget_data\"]\n",
    "investments = data[\"investments\"]"
   ]
  },
  {
   "cell_type": "code",
   "execution_count": null,
   "metadata": {},
   "outputs": [],
   "source": [
    "account_data.availableBalance.sum()"
   ]
  },
  {
   "cell_type": "code",
   "execution_count": null,
   "metadata": {},
   "outputs": [],
   "source": [
    "investments.plot(x=\"ndays\", y=\"daily_investments\")  # Saving per day"
   ]
  },
  {
   "cell_type": "code",
   "execution_count": null,
   "metadata": {},
   "outputs": [],
   "source": [
    "budget_data.groupby(\"category.name\").sum()"
   ]
  },
  {
   "cell_type": "code",
   "execution_count": null,
   "metadata": {},
   "outputs": [],
   "source": [
    "nwt.mint.plot_categories(transaction_data)"
   ]
  },
  {
   "cell_type": "code",
   "execution_count": null,
   "metadata": {},
   "outputs": [],
   "source": [
    "df = (\n",
    "    transaction_data.groupby([\"category.parentName\", \"category.name\"])[\"amount\"]\n",
    "    .sum()\n",
    "    .reset_index()\n",
    ")\n",
    "df = df[df.amount < 0].copy()\n",
    "df = df[(df[\"category.name\"] != \"Transfer\") & (df[\"category.parentName\"] != \"Transfer\")]\n",
    "df[\"amount\"] = -df[\"amount\"]\n",
    "nwt.mint.plot_budget_spending(df)\n",
    "px.sunburst(df, path=[\"category.parentName\", \"category.name\"], values=\"amount\")"
   ]
  },
  {
   "cell_type": "code",
   "execution_count": null,
   "metadata": {},
   "outputs": [],
   "source": [
    "df = (\n",
    "    transaction_data.groupby([\"category.parentName\", \"category.name\"])[\"amount\"]\n",
    "    .sum()\n",
    "    .reset_index()\n",
    ")\n",
    "df[df.amount > 0]"
   ]
  },
  {
   "cell_type": "code",
   "execution_count": null,
   "metadata": {},
   "outputs": [],
   "source": [
    "df[df.amount < 0]"
   ]
  },
  {
   "cell_type": "code",
   "execution_count": null,
   "metadata": {},
   "outputs": [],
   "source": [
    "transaction_data[transaction_data[\"category.name\"] == \"Income\"]"
   ]
  },
  {
   "cell_type": "code",
   "execution_count": null,
   "metadata": {},
   "outputs": [],
   "source": [
    "account_data[account_data.type == \"InvestmentAccount\"][\"value\"].sum()"
   ]
  },
  {
   "cell_type": "code",
   "execution_count": null,
   "metadata": {},
   "outputs": [],
   "source": [
    "average_saving_daily = investments.amount_cumsum.iloc[-1] / investments.ndays.iloc[-1]\n",
    "average_saving_daily = (\n",
    "    account_data[\n",
    "        (account_data.type == \"InvestmentAccount\") & (account_data.name != \"Marcella\")\n",
    "    ][\"value\"].sum()\n",
    "    / investments.ndays.iloc[-1]\n",
    ")\n",
    "print(f\"Average saving per day: {average_saving_daily}\")\n",
    "# Per year\n",
    "average_saving_yearly = average_saving_daily * 365\n",
    "print(f\"Average saving per year: {average_saving_yearly}\")"
   ]
  },
  {
   "cell_type": "code",
   "execution_count": null,
   "metadata": {},
   "outputs": [],
   "source": []
  },
  {
   "cell_type": "code",
   "execution_count": null,
   "metadata": {},
   "outputs": [],
   "source": [
    "from net_worth_tracker import retirement\n",
    "\n",
    "defaults = dict(\n",
    "    average_saving_daily=10,\n",
    "    monthly_spending=700,\n",
    "    start_with=2000,\n",
    "    yearly_pct_raise=3,\n",
    "    date_of_birth=nwt.utils.date_of_birth(),\n",
    ")\n",
    "\n",
    "future = retirement.compound(**defaults, continue_n_years_after_retirement=5)\n",
    "df_future = pd.DataFrame(future).set_index(\"date\")\n",
    "future[-1]\n"
   ]
  },
  {
   "cell_type": "code",
   "execution_count": null,
   "metadata": {},
   "outputs": [],
   "source": [
    "# Price vacation\n",
    "n_months = retirement.cost_in_early_retirement(extra=-10_000, **defaults) * 12\n",
    "print(f\"Price vacation: {n_months:.1f} months in retirement.\")"
   ]
  },
  {
   "cell_type": "code",
   "execution_count": null,
   "metadata": {},
   "outputs": [],
   "source": [
    "# Difference in cost of early retirement\n",
    "sims = [\n",
    "    {\n",
    "        \"amount\": amount,\n",
    "        \"n_months\": 12 * retirement.cost_in_early_retirement(extra=amount, **defaults),\n",
    "    }\n",
    "    for amount in range(-50_000, 50_000, 5_000)\n",
    "]\n",
    "pd.DataFrame(sims).plot(x=\"amount\", y=\"n_months\")\n"
   ]
  },
  {
   "cell_type": "code",
   "execution_count": null,
   "metadata": {},
   "outputs": [],
   "source": [
    "import matplotlib.pyplot as plt\n",
    "\n",
    "fig, ax = plt.subplots(figsize=(10, 5))\n",
    "df_future.net_worth_inflation_corrected.plot(ax=ax)\n",
    "(df_future.net_worth_inflation_corrected.max() * df_future.fire.astype(int)).plot(ax=ax)\n",
    "# Plot horizontal line\n",
    "target = 1_200_000  # TODO: make based on spending\n",
    "ax.axhline(target, color=\"red\", linestyle=\"--\")"
   ]
  },
  {
   "cell_type": "code",
   "execution_count": null,
   "metadata": {},
   "outputs": [],
   "source": [
    "pat = \"PURCHASE                                AUTHORIZED ON\"\n",
    "to_edit = transaction_data[transaction_data.description.str.startswith(pat)]\n",
    "sorted(to_edit.apply(lambda x: x.description.replace(pat, \"\")[9:], axis=1).to_list())"
   ]
  },
  {
   "cell_type": "code",
   "execution_count": null,
   "metadata": {},
   "outputs": [],
   "source": []
  }
 ],
 "metadata": {
  "language_info": {
   "name": "python",
   "pygments_lexer": "ipython3"
  }
 },
 "nbformat": 4,
 "nbformat_minor": 2
}
