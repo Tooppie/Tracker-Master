{
 "cells": [
  {
   "cell_type": "markdown",
   "metadata": {},
   "source": [
    "# Balances\n",
    "\n",
    "<div class=\"alert alert-danger\">\n",
    "  <strong>Warning!</strong> This notebook contains a fake portfolio <i>(automatically generated)</i> and <b>does not</b> represent my own, it merely serves as an example.\n",
    "</div>\n"
   ]
  },
  {
   "cell_type": "raw",
   "metadata": {},
   "source": [
    "<style>\n",
    "div.prompt {display:none}\n",
    "</style>"
   ]
  },
  {
   "cell_type": "code",
   "execution_count": null,
   "metadata": {},
   "outputs": [],
   "source": [
    "import pytz\n",
    "import socket\n",
    "from datetime import datetime, timezone\n",
    "\n",
    "now = datetime.now().astimezone(pytz.timezone(\"America/Los_Angeles\"))\n",
    "print(f\"Last executed on {now} on {socket.gethostname()}\")"
   ]
  },
  {
   "cell_type": "markdown",
   "metadata": {},
   "source": [
    "<details>\n",
    "<summary>Click here for instructions</summary>\n",
    "\n",
    "### Binance\n",
    "\n",
    "Uses API and gets both wallet and Binance Earn investments.\n",
    "\n",
    "### BlockFi\n",
    "\n",
    "Uses `csv` files downloaded from https://app.blockfi.com/settings/reports\n",
    "\n",
    "### Nexo.io\n",
    "\n",
    "Uses `csv` files downloaded from https://platform.nexo.io/transactions\n",
    "\n",
    "### Exodus\n",
    "\n",
    "Uses `csv` files which can be extracted using:\n",
    "\n",
    "Exodus Desktop application → *Exodus* in menu bar → *Developer* → *Export All Transactions*\n",
    "\n",
    "\n",
    "TODO: get old Exodus wallet\n",
    "\n",
    "### Trust Wallet\n",
    "\n",
    "Uses an BCSScan.com API query for all BEP20 tokens.\n",
    "\n",
    "</details>"
   ]
  },
  {
   "cell_type": "code",
   "execution_count": null,
   "metadata": {},
   "outputs": [],
   "source": [
    "import net_worth_tracker as nwt\n",
    "balances = {}"
   ]
  },
  {
   "cell_type": "code",
   "execution_count": null,
   "metadata": {},
   "outputs": [],
   "source": [
    "# Crypto\n",
    "with nwt.utils.try_and_print_error(\"binance\"):\n",
    "    balances[\"binance\"] = nwt.binance.get_binance_balances()\n",
    "\n",
    "with nwt.utils.try_and_print_error(\"blockfi\"):\n",
    "    balances[\"blockfi\"] = nwt.blockfi.get_blockfi_balances()\n",
    "\n",
    "with nwt.utils.try_and_print_error(\"nexo\"):\n",
    "    balances[\"nexo\"] = nwt.nexo.get_nexo_balances()\n",
    "\n",
    "with nwt.utils.try_and_print_error(\"celsius\"):\n",
    "    balances[\"celsius\"] = nwt.celsius.get_celsius_balances()\n",
    "\n",
    "with nwt.utils.try_and_print_error(\"exodus\"):\n",
    "    balances[\"exodus\"] = nwt.exodus.get_exodus()\n",
    "    balances[\"exodus\"][\"SOL\"][\"amount\"] = 5.759\n",
    "\n",
    "with nwt.utils.try_and_print_error(\"debank\"):\n",
    "    balances.update(nwt.debank.get_debank_balances())\n",
    "\n",
    "# Stocks\n",
    "with nwt.utils.try_and_print_error(\"degiro\"):\n",
    "    balances[\"degiro\"] = nwt.degiro.get_degiro_balances()\n",
    "\n",
    "with nwt.utils.try_and_print_error(\"brand_new_day\"):\n",
    "    brand_new_day = nwt.brand_new_day.scrape_brand_new_day()\n",
    "    balances[\"brand_new_day\"] = nwt.brand_new_day.get_bnd_balances(brand_new_day)\n",
    "\n",
    "with nwt.utils.try_and_print_error(\"manual\"):\n",
    "    manual = nwt.manual.load(\"manual.yaml\")\n",
    "    balances.update(manual)"
   ]
  },
  {
   "cell_type": "markdown",
   "metadata": {},
   "source": [
    "# Add crypto prices from CoinGecko"
   ]
  },
  {
   "cell_type": "code",
   "execution_count": null,
   "metadata": {},
   "outputs": [],
   "source": [
    "with nwt.utils.hide(\"Click here to see nwt.coin_gecko.add_value_and_price output.\"):\n",
    "    nwt.coin_gecko.add_value_and_price(balances)\n",
    "nwt.utils.save_data(balances, None)"
   ]
  },
  {
   "cell_type": "markdown",
   "metadata": {},
   "source": [
    "## Historic overview\n",
    "\n",
    "ATH is a personal ATH and 24h and 1w price change accuracy depends on sampling frequency of this notebook."
   ]
  },
  {
   "cell_type": "code",
   "execution_count": null,
   "metadata": {},
   "outputs": [],
   "source": [
    "import matplotlib.pyplot as plt\n",
    "import numpy as np\n",
    "import pandas as pd\n",
    "from IPython.display import HTML\n",
    "from matplotlib.animation import FuncAnimation\n",
    "\n",
    "import net_worth_tracker as nwt\n",
    "\n",
    "plt.style.use(\"dark_background\")\n",
    "\n",
    "pd.options.mode.chained_assignment = None\n",
    "\n",
    "datas = nwt.utils.load_data(ndays=999)\n",
    "df = nwt.utils.datas_to_df(\n",
    "    datas,\n",
    "    ignore=(\n",
    "        \"degiro\",\n",
    "        \"brand_new_day\",\n",
    "        \"stock_manual\",\n",
    "    ),\n",
    "    ignore_symbols=nwt.ignore_symbols,\n",
    ")\n",
    "\n",
    "overview = nwt.utils.overview_df(df)\n",
    "total_ath_value = overview[\"ATH value (€)\"].sum(skipna=True)\n",
    "total_atl_value = overview[\"ATL value (€)\"].sum(skipna=True)\n",
    "total_value = overview[\"value\"].sum(skipna=True)\n",
    "total_stable = sum(\n",
    "    x.value\n",
    "    for symbol, x in overview.iterrows()\n",
    "    if symbol in {\"DAI\", \"miMATIC\", \"USDC\", \"USDT\", \"MIM\"}\n",
    ")\n",
    "total_debt = sum(x.value for symbol, x in overview.iterrows() if x.value < 0)\n",
    "with open(\"current_value\", \"w\") as f:\n",
    "    f.write(f\"{total_value:.2f}\")\n",
    "print(f\"Current networth in crypto:\\n€{total_value:.2f}\\n\")\n",
    "print(f\"total debt: €{total_debt:.2f}, total in stables: €{total_stable:.2f}\\n\")\n",
    "print(f\"The total ATL/ATH value is\\n€{total_atl_value:.2f}/€{total_ath_value:.2f}\\n\")"
   ]
  },
  {
   "cell_type": "code",
   "execution_count": null,
   "metadata": {},
   "outputs": [],
   "source": [
    "pd.set_option(\"display.float_format\", lambda x: \"%.5f\" % x)\n",
    "nwt.utils.styled_overview_df(df)"
   ]
  },
  {
   "cell_type": "markdown",
   "metadata": {},
   "source": [
    "## Denominated in BTC"
   ]
  },
  {
   "cell_type": "code",
   "execution_count": null,
   "metadata": {},
   "outputs": [],
   "source": [
    "df2 = nwt.utils.denominate_in(df, \"BTC\", norm=1e8)\n",
    "nwt.utils.styled_overview_df(df2, min_value=100e-8, currency_symbol=\"丰\")"
   ]
  },
  {
   "cell_type": "markdown",
   "metadata": {},
   "source": [
    "## Denominated in ETH"
   ]
  },
  {
   "cell_type": "code",
   "execution_count": null,
   "metadata": {},
   "outputs": [],
   "source": [
    "df2 = nwt.utils.denominate_in(df, \"ETH\", norm=1)\n",
    "nwt.utils.styled_overview_df(df2, min_value=0.001, currency_symbol=\"Ξ\")"
   ]
  },
  {
   "cell_type": "markdown",
   "metadata": {},
   "source": [
    "# Plots"
   ]
  },
  {
   "cell_type": "code",
   "execution_count": null,
   "metadata": {},
   "outputs": [],
   "source": [
    "%%capture\n",
    "\n",
    "fig, ax = plt.subplots(figsize=(15, 15))\n",
    "fig.subplots_adjust(left=0.2, bottom=0.3)\n",
    "dates = nwt.utils.unique_dt_per_day(df)[::7]\n",
    "\n",
    "def update(date):\n",
    "    nwt.plots.plot_pie_at_date(df, date, min_euro=1, fig=fig, ax=ax, show=False)\n",
    "\n",
    "\n",
    "ani = FuncAnimation(fig, update, frames=dates, repeat=False)\n",
    "# ani.save(\"portfolio.mp4\")"
   ]
  },
  {
   "cell_type": "code",
   "execution_count": null,
   "metadata": {},
   "outputs": [],
   "source": [
    "from IPython.display import HTML\n",
    "\n",
    "display(HTML(ani.to_jshtml()))"
   ]
  },
  {
   "cell_type": "code",
   "execution_count": null,
   "metadata": {},
   "outputs": [],
   "source": [
    "nwt.plots.plot_pie_at_date(df, df.date.max())\n",
    "plt.show()"
   ]
  },
  {
   "cell_type": "code",
   "execution_count": null,
   "metadata": {},
   "outputs": [],
   "source": [
    "cols = [col for col in df.columns if col.startswith(\"value_in\")]\n",
    "value_in = (\n",
    "    df[df.date == df.date.max()][cols].sum(skipna=True).sort_values(ascending=False)\n",
    ")\n",
    "value_in.index = [col.replace(\"value_in_\", \"\") for col in value_in.index]\n",
    "value_in = value_in[value_in > 0.1]  # ignore small values\n",
    "\n",
    "fig, ax = plt.subplots(figsize=(8, 8))\n",
    "patches, texts, _ = ax.pie(value_in, labels=value_in.index, autopct=\"%1.1f%%\")\n",
    "factor = 100 / value_in.sum()\n",
    "legend_labels = [\n",
    "    f\"{coin} - {factor*amount:1.2f}% - €{amount:.2f}\"\n",
    "    for coin, amount in value_in.items()\n",
    "]\n",
    "\n",
    "ax.axis(\"equal\")\n",
    "plt.tight_layout()\n",
    "plt.legend(\n",
    "    patches,\n",
    "    legend_labels,\n",
    "    loc=\"upper left\",\n",
    "    bbox_to_anchor=(-0.25, 1.0),\n",
    "    fontsize=16,\n",
    ")\n",
    "plt.show()"
   ]
  },
  {
   "cell_type": "code",
   "execution_count": null,
   "metadata": {},
   "outputs": [],
   "source": [
    "ov = overview[overview.value > 50]\n",
    "\n",
    "profits = (ov.price / ov.avg_price - 1).sort_values()\n",
    "losses = profits[profits < 0]\n",
    "colors = [\"r\" if p < 0 else \"g\" for p in profits]\n",
    "profits.plot.bar(figsize=(8, 8), ylabel='price/avg_price-1', color=colors)"
   ]
  },
  {
   "cell_type": "code",
   "execution_count": null,
   "metadata": {},
   "outputs": [],
   "source": [
    "((ov.price / ov.avg_price)).sort_values().plot.bar(figsize=(8, 8), ylabel=\"price / avg_price\")"
   ]
  },
  {
   "cell_type": "code",
   "execution_count": null,
   "metadata": {},
   "outputs": [],
   "source": [
    "ov2 = ov[ov.index != \"EUR\"]\n",
    "profits = (ov2.amount * (ov2.price - ov2.avg_price)).sort_values()\n",
    "losses = profits[profits < 0]\n",
    "colors = [\"r\" if p < 0 else \"g\" for p in profits]\n",
    "fig, ax = plt.subplots()\n",
    "profits.abs().plot.bar(\n",
    "    ax=ax,\n",
    "    figsize=(8, 8),\n",
    "    logy=True,\n",
    "    ylabel=\"profit (€)\",\n",
    "    color=colors,\n",
    ")"
   ]
  },
  {
   "cell_type": "code",
   "execution_count": null,
   "metadata": {},
   "outputs": [],
   "source": [
    "profits.abs().plot.bar(\n",
    "    figsize=(8, 8),\n",
    "    ylabel=\"profit (€)\",\n",
    "    color=colors,\n",
    ")"
   ]
  },
  {
   "cell_type": "code",
   "execution_count": null,
   "metadata": {},
   "outputs": [],
   "source": [
    "import matplotlib.pyplot as plt\n",
    "plt.style.use(\"dark_background\")\n",
    "\n",
    "fig, ax = plt.subplots(figsize=(8, 8))\n",
    "nwt.plots.plot_barh_at_date_with_profits(\n",
    "    df, df.date.iloc[-1], min_euro=10, fig=fig, ax=ax, show=True\n",
    ")"
   ]
  },
  {
   "cell_type": "code",
   "execution_count": null,
   "metadata": {},
   "outputs": [],
   "source": [
    "%%capture\n",
    "\n",
    "fig, ax = plt.subplots(figsize=(8, 8))\n",
    "dates = nwt.utils.unique_dt_per_day(df)[::7]\n",
    "\n",
    "def update(date):\n",
    "    nwt.plots.plot_barh_at_date(df, date, min_euro=10, fig=fig, ax=ax, show=False)\n",
    "\n",
    "ani = FuncAnimation(fig, update, frames=dates, repeat=False)\n",
    "\n",
    "# ani.save(\"barh.mp4\")"
   ]
  },
  {
   "cell_type": "code",
   "execution_count": null,
   "metadata": {},
   "outputs": [],
   "source": [
    "display(HTML(ani.to_jshtml()))"
   ]
  },
  {
   "cell_type": "code",
   "execution_count": null,
   "metadata": {},
   "outputs": [],
   "source": [
    "cols = [col for col in df.columns if col.startswith(\"value_in\")]\n",
    "value_ratios = df.groupby(\"date\").sum()[cols]\n",
    "value_ratios.columns = [col.replace(\"value_in_\", \"\") for col in value_ratios.columns]\n",
    "value_ratios.plot(\n",
    "    xlabel=\"Date\", ylabel=\"Amount (€)\", ylim=(0, None), title=\"Value per category\"\n",
    ")\n",
    "plt.show()"
   ]
  },
  {
   "cell_type": "markdown",
   "metadata": {},
   "source": [
    "## Total value over time"
   ]
  },
  {
   "cell_type": "code",
   "execution_count": null,
   "metadata": {},
   "outputs": [],
   "source": [
    "def get_title(series):\n",
    "    coin = series.name\n",
    "    pct_change = 100 * (series.iloc[-1] - series.iloc[0]) / series.iloc[0]\n",
    "    amount_change = series.iloc[-1] - series.iloc[0]\n",
    "    return (\n",
    "        f\"{coin} value over time, {pct_change:.1f}%, \"\n",
    "        f\"€{amount_change:.2f} change since the start\"\n",
    "    )\n",
    "\n",
    "\n",
    "total = df.groupby(\"date\").sum()[\"value\"]\n",
    "total.name = \"total\"\n",
    "total.plot(\n",
    "    title=get_title(total),\n",
    "    xlabel=\"Date\",\n",
    "    ylabel=\"Value (€)\",\n",
    ")\n",
    "plt.show()"
   ]
  },
  {
   "cell_type": "markdown",
   "metadata": {},
   "source": [
    "## Value over time for current top 15 holdings"
   ]
  },
  {
   "cell_type": "code",
   "execution_count": null,
   "metadata": {},
   "outputs": [],
   "source": [
    "total = df.groupby([\"date\", \"symbol\"]).sum()[[\"value\", \"amount\"]]\n",
    "total = total.reset_index().set_index(\"date\")\n",
    "last = total[total.index == total.index.max()]\n",
    "top_n = 15\n",
    "biggest_holdings = last.sort_values(\"value\", ascending=False).iloc[:top_n]\n",
    "\n",
    "for coin in biggest_holdings.symbol:\n",
    "    sel = total[total.symbol == coin]\n",
    "    bal = sel.amount\n",
    "    eur = sel.value\n",
    "    eur.name = coin\n",
    "    fig0, ax0 = plt.subplots()\n",
    "    ax1 = ax0.twinx()\n",
    "    ax1.spines[\"right\"].set_edgecolor(\"C1\")\n",
    "    ax1.tick_params(axis=\"y\", colors=\"C1\")\n",
    "    ax1.set_ylabel(f\"Amount in {coin}\")\n",
    "    mid, min_, max_ = bal.mean(), bal.min(), bal.max()\n",
    "    ax1.set_ylim(min(mid * 0.9, min_), max(mid * 1.1, max_))\n",
    "    eur.plot(ax=ax0, xlabel=\"Date\", ylabel=\"Value (€)\", title=get_title(eur))\n",
    "    bal.plot(ax=ax1, c=\"C1\")\n",
    "    plt.show()"
   ]
  }
 ],
 "metadata": {
  "language_info": {
   "name": "python",
   "pygments_lexer": "ipython3"
  }
 },
 "nbformat": 4,
 "nbformat_minor": 2
}
